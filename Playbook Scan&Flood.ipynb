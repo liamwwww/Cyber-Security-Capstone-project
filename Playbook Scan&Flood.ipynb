{
 "cells": [
  {
   "cell_type": "code",
   "execution_count": 7,
   "metadata": {
    "collapsed": false,
    "scrolled": true
   },
   "outputs": [],
   "source": [
    "import numpy as np\n",
    "import pandas as pd\n",
    "import time\n",
    "\n",
    "def load_dataset(file):\n",
    "    try:\n",
    "        df = pd.read_csv('normal_streams\\{}.txt'.format(file), sep=\",\", header=None)\n",
    "        df.columns = [\"T\",\"D\",\"SC\",\"SP\",\"DC\",\"DP\",\"PRO\",\"PC\",\"BC\"]\n",
    "        return df\n",
    "    except FileNotFoundError:\n",
    "        pass\n",
    "    except pd.io.common.EmptyDataError:\n",
    "        pass\n",
    "\n",
    "df = load_dataset(408)"
   ]
  },
  {
   "cell_type": "code",
   "execution_count": 9,
   "metadata": {
    "collapsed": false,
    "scrolled": true
   },
   "outputs": [],
   "source": [
    "dict_of_features = {}\n",
    "for i in range(7516):\n",
    "    df1 = load_dataset(i)\n",
    "    if (df1 is None):\n",
    "        continue\n",
    "    \n",
    "    num_of_packets = df1.PC.sum()\n",
    "    avg_bytes_per_packet = df1.BC.sum()/num_of_packets\n",
    "    avg_duration = df1.D.mean()\n",
    "    num_of_flows = df1.shape[0]\n",
    "    avg_packets_per_flow = num_of_packets/num_of_flows\n",
    "    num_of_single_packet_flow = (df1['PC'] == 1).sum()\n",
    "\n",
    "    temp = np.array([num_of_packets, avg_bytes_per_packet, avg_duration, num_of_flows, avg_packets_per_flow, num_of_single_packet_flow])\n",
    "    temp.astype(float)\n",
    "    dict_of_features[i] = temp"
   ]
  },
  {
   "cell_type": "code",
   "execution_count": 13,
   "metadata": {
    "collapsed": false
   },
   "outputs": [],
   "source": [
    "df_all = pd.DataFrame.from_dict(dict_of_features, orient='index')\n",
    "df_all.columns = [\"num_of_packets\", \"avg_bytes_per_packet\", \"avg_duration\", \"num_of_flows\", \"avg_packets_per_flow\", \"num_of_single_packet_flow\"]"
   ]
  },
  {
   "cell_type": "code",
   "execution_count": 14,
   "metadata": {
    "collapsed": false
   },
   "outputs": [],
   "source": [
    "def X_squared(curr, mean_level):\n",
    "    result = np.sum(np.square((curr - mean_level)) / mean_level)\n",
    "    return result"
   ]
  },
  {
   "cell_type": "code",
   "execution_count": 15,
   "metadata": {
    "collapsed": false
   },
   "outputs": [
    {
     "name": "stderr",
     "output_type": "stream",
     "text": [
      "C:\\Users\\Administrator\\Anaconda3\\lib\\site-packages\\sklearn\\preprocessing\\data.py:321: DeprecationWarning: Passing 1d arrays as data is deprecated in 0.17 and will raise ValueError in 0.19. Reshape your data either using X.reshape(-1, 1) if your data has a single feature or X.reshape(1, -1) if it contains a single sample.\n",
      "  warnings.warn(DEPRECATION_MSG_1D, DeprecationWarning)\n",
      "C:\\Users\\Administrator\\Anaconda3\\lib\\site-packages\\sklearn\\preprocessing\\data.py:356: DeprecationWarning: Passing 1d arrays as data is deprecated in 0.17 and will raise ValueError in 0.19. Reshape your data either using X.reshape(-1, 1) if your data has a single feature or X.reshape(1, -1) if it contains a single sample.\n",
      "  warnings.warn(DEPRECATION_MSG_1D, DeprecationWarning)\n",
      "C:\\Users\\Administrator\\Anaconda3\\lib\\site-packages\\sklearn\\preprocessing\\data.py:321: DeprecationWarning: Passing 1d arrays as data is deprecated in 0.17 and will raise ValueError in 0.19. Reshape your data either using X.reshape(-1, 1) if your data has a single feature or X.reshape(1, -1) if it contains a single sample.\n",
      "  warnings.warn(DEPRECATION_MSG_1D, DeprecationWarning)\n",
      "C:\\Users\\Administrator\\Anaconda3\\lib\\site-packages\\sklearn\\preprocessing\\data.py:356: DeprecationWarning: Passing 1d arrays as data is deprecated in 0.17 and will raise ValueError in 0.19. Reshape your data either using X.reshape(-1, 1) if your data has a single feature or X.reshape(1, -1) if it contains a single sample.\n",
      "  warnings.warn(DEPRECATION_MSG_1D, DeprecationWarning)\n",
      "C:\\Users\\Administrator\\Anaconda3\\lib\\site-packages\\sklearn\\preprocessing\\data.py:321: DeprecationWarning: Passing 1d arrays as data is deprecated in 0.17 and will raise ValueError in 0.19. Reshape your data either using X.reshape(-1, 1) if your data has a single feature or X.reshape(1, -1) if it contains a single sample.\n",
      "  warnings.warn(DEPRECATION_MSG_1D, DeprecationWarning)\n",
      "C:\\Users\\Administrator\\Anaconda3\\lib\\site-packages\\sklearn\\preprocessing\\data.py:356: DeprecationWarning: Passing 1d arrays as data is deprecated in 0.17 and will raise ValueError in 0.19. Reshape your data either using X.reshape(-1, 1) if your data has a single feature or X.reshape(1, -1) if it contains a single sample.\n",
      "  warnings.warn(DEPRECATION_MSG_1D, DeprecationWarning)\n",
      "C:\\Users\\Administrator\\Anaconda3\\lib\\site-packages\\sklearn\\preprocessing\\data.py:321: DeprecationWarning: Passing 1d arrays as data is deprecated in 0.17 and will raise ValueError in 0.19. Reshape your data either using X.reshape(-1, 1) if your data has a single feature or X.reshape(1, -1) if it contains a single sample.\n",
      "  warnings.warn(DEPRECATION_MSG_1D, DeprecationWarning)\n",
      "C:\\Users\\Administrator\\Anaconda3\\lib\\site-packages\\sklearn\\preprocessing\\data.py:356: DeprecationWarning: Passing 1d arrays as data is deprecated in 0.17 and will raise ValueError in 0.19. Reshape your data either using X.reshape(-1, 1) if your data has a single feature or X.reshape(1, -1) if it contains a single sample.\n",
      "  warnings.warn(DEPRECATION_MSG_1D, DeprecationWarning)\n",
      "C:\\Users\\Administrator\\Anaconda3\\lib\\site-packages\\sklearn\\preprocessing\\data.py:321: DeprecationWarning: Passing 1d arrays as data is deprecated in 0.17 and will raise ValueError in 0.19. Reshape your data either using X.reshape(-1, 1) if your data has a single feature or X.reshape(1, -1) if it contains a single sample.\n",
      "  warnings.warn(DEPRECATION_MSG_1D, DeprecationWarning)\n",
      "C:\\Users\\Administrator\\Anaconda3\\lib\\site-packages\\sklearn\\preprocessing\\data.py:356: DeprecationWarning: Passing 1d arrays as data is deprecated in 0.17 and will raise ValueError in 0.19. Reshape your data either using X.reshape(-1, 1) if your data has a single feature or X.reshape(1, -1) if it contains a single sample.\n",
      "  warnings.warn(DEPRECATION_MSG_1D, DeprecationWarning)\n",
      "C:\\Users\\Administrator\\Anaconda3\\lib\\site-packages\\sklearn\\preprocessing\\data.py:321: DeprecationWarning: Passing 1d arrays as data is deprecated in 0.17 and will raise ValueError in 0.19. Reshape your data either using X.reshape(-1, 1) if your data has a single feature or X.reshape(1, -1) if it contains a single sample.\n",
      "  warnings.warn(DEPRECATION_MSG_1D, DeprecationWarning)\n",
      "C:\\Users\\Administrator\\Anaconda3\\lib\\site-packages\\sklearn\\preprocessing\\data.py:356: DeprecationWarning: Passing 1d arrays as data is deprecated in 0.17 and will raise ValueError in 0.19. Reshape your data either using X.reshape(-1, 1) if your data has a single feature or X.reshape(1, -1) if it contains a single sample.\n",
      "  warnings.warn(DEPRECATION_MSG_1D, DeprecationWarning)\n",
      "C:\\Users\\Administrator\\Anaconda3\\lib\\site-packages\\sklearn\\preprocessing\\data.py:321: DeprecationWarning: Passing 1d arrays as data is deprecated in 0.17 and will raise ValueError in 0.19. Reshape your data either using X.reshape(-1, 1) if your data has a single feature or X.reshape(1, -1) if it contains a single sample.\n",
      "  warnings.warn(DEPRECATION_MSG_1D, DeprecationWarning)\n",
      "C:\\Users\\Administrator\\Anaconda3\\lib\\site-packages\\sklearn\\preprocessing\\data.py:356: DeprecationWarning: Passing 1d arrays as data is deprecated in 0.17 and will raise ValueError in 0.19. Reshape your data either using X.reshape(-1, 1) if your data has a single feature or X.reshape(1, -1) if it contains a single sample.\n",
      "  warnings.warn(DEPRECATION_MSG_1D, DeprecationWarning)\n"
     ]
    },
    {
     "data": {
      "text/html": [
       "<div>\n",
       "<table border=\"1\" class=\"dataframe\">\n",
       "  <thead>\n",
       "    <tr style=\"text-align: right;\">\n",
       "      <th></th>\n",
       "      <th>num_of_packets</th>\n",
       "      <th>avg_bytes_per_packet</th>\n",
       "      <th>avg_duration</th>\n",
       "      <th>num_of_flows</th>\n",
       "      <th>avg_packets_per_flow</th>\n",
       "      <th>num_of_single_packet_flow</th>\n",
       "    </tr>\n",
       "  </thead>\n",
       "  <tbody>\n",
       "    <tr>\n",
       "      <th>1</th>\n",
       "      <td>0.032726</td>\n",
       "      <td>0.643720</td>\n",
       "      <td>0.579025</td>\n",
       "      <td>0.049861</td>\n",
       "      <td>0.043034</td>\n",
       "      <td>0.020121</td>\n",
       "    </tr>\n",
       "    <tr>\n",
       "      <th>2</th>\n",
       "      <td>0.027498</td>\n",
       "      <td>0.660530</td>\n",
       "      <td>0.610016</td>\n",
       "      <td>0.044196</td>\n",
       "      <td>0.040762</td>\n",
       "      <td>0.015610</td>\n",
       "    </tr>\n",
       "    <tr>\n",
       "      <th>3</th>\n",
       "      <td>0.030523</td>\n",
       "      <td>0.671603</td>\n",
       "      <td>0.627446</td>\n",
       "      <td>0.046969</td>\n",
       "      <td>0.042595</td>\n",
       "      <td>0.016722</td>\n",
       "    </tr>\n",
       "    <tr>\n",
       "      <th>4</th>\n",
       "      <td>0.032424</td>\n",
       "      <td>0.665517</td>\n",
       "      <td>0.676841</td>\n",
       "      <td>0.044072</td>\n",
       "      <td>0.048241</td>\n",
       "      <td>0.016081</td>\n",
       "    </tr>\n",
       "    <tr>\n",
       "      <th>5</th>\n",
       "      <td>0.032541</td>\n",
       "      <td>0.650922</td>\n",
       "      <td>0.649872</td>\n",
       "      <td>0.041827</td>\n",
       "      <td>0.051015</td>\n",
       "      <td>0.015269</td>\n",
       "    </tr>\n",
       "  </tbody>\n",
       "</table>\n",
       "</div>"
      ],
      "text/plain": [
       "   num_of_packets  avg_bytes_per_packet  avg_duration  num_of_flows  \\\n",
       "1        0.032726              0.643720      0.579025      0.049861   \n",
       "2        0.027498              0.660530      0.610016      0.044196   \n",
       "3        0.030523              0.671603      0.627446      0.046969   \n",
       "4        0.032424              0.665517      0.676841      0.044072   \n",
       "5        0.032541              0.650922      0.649872      0.041827   \n",
       "\n",
       "   avg_packets_per_flow  num_of_single_packet_flow  \n",
       "1              0.043034                   0.020121  \n",
       "2              0.040762                   0.015610  \n",
       "3              0.042595                   0.016722  \n",
       "4              0.048241                   0.016081  \n",
       "5              0.051015                   0.015269  "
      ]
     },
     "execution_count": 15,
     "metadata": {},
     "output_type": "execute_result"
    }
   ],
   "source": [
    "from sklearn.preprocessing import MinMaxScaler\n",
    "df_all_scaled = df_all.apply(lambda x: MinMaxScaler().fit_transform(x))\n",
    "mean_level = df_all_scaled.values.mean(axis=0)\n",
    "mean_level\n",
    "df_all_scaled.head()"
   ]
  },
  {
   "cell_type": "code",
   "execution_count": 16,
   "metadata": {
    "collapsed": false
   },
   "outputs": [
    {
     "data": {
      "text/html": [
       "<div>\n",
       "<table border=\"1\" class=\"dataframe\">\n",
       "  <thead>\n",
       "    <tr style=\"text-align: right;\">\n",
       "      <th></th>\n",
       "      <th>num_of_packets</th>\n",
       "      <th>avg_bytes_per_packet</th>\n",
       "      <th>avg_duration</th>\n",
       "      <th>num_of_flows</th>\n",
       "      <th>avg_packets_per_flow</th>\n",
       "      <th>num_of_single_packet_flow</th>\n",
       "      <th>X_squared_score</th>\n",
       "    </tr>\n",
       "  </thead>\n",
       "  <tbody>\n",
       "    <tr>\n",
       "      <th>1</th>\n",
       "      <td>0.032726</td>\n",
       "      <td>0.643720</td>\n",
       "      <td>0.579025</td>\n",
       "      <td>0.049861</td>\n",
       "      <td>0.043034</td>\n",
       "      <td>0.020121</td>\n",
       "      <td>0.128192</td>\n",
       "    </tr>\n",
       "    <tr>\n",
       "      <th>2</th>\n",
       "      <td>0.027498</td>\n",
       "      <td>0.660530</td>\n",
       "      <td>0.610016</td>\n",
       "      <td>0.044196</td>\n",
       "      <td>0.040762</td>\n",
       "      <td>0.015610</td>\n",
       "      <td>0.147154</td>\n",
       "    </tr>\n",
       "    <tr>\n",
       "      <th>3</th>\n",
       "      <td>0.030523</td>\n",
       "      <td>0.671603</td>\n",
       "      <td>0.627446</td>\n",
       "      <td>0.046969</td>\n",
       "      <td>0.042595</td>\n",
       "      <td>0.016722</td>\n",
       "      <td>0.137312</td>\n",
       "    </tr>\n",
       "    <tr>\n",
       "      <th>4</th>\n",
       "      <td>0.032424</td>\n",
       "      <td>0.665517</td>\n",
       "      <td>0.676841</td>\n",
       "      <td>0.044072</td>\n",
       "      <td>0.048241</td>\n",
       "      <td>0.016081</td>\n",
       "      <td>0.129735</td>\n",
       "    </tr>\n",
       "    <tr>\n",
       "      <th>5</th>\n",
       "      <td>0.032541</td>\n",
       "      <td>0.650922</td>\n",
       "      <td>0.649872</td>\n",
       "      <td>0.041827</td>\n",
       "      <td>0.051015</td>\n",
       "      <td>0.015269</td>\n",
       "      <td>0.127943</td>\n",
       "    </tr>\n",
       "  </tbody>\n",
       "</table>\n",
       "</div>"
      ],
      "text/plain": [
       "   num_of_packets  avg_bytes_per_packet  avg_duration  num_of_flows  \\\n",
       "1        0.032726              0.643720      0.579025      0.049861   \n",
       "2        0.027498              0.660530      0.610016      0.044196   \n",
       "3        0.030523              0.671603      0.627446      0.046969   \n",
       "4        0.032424              0.665517      0.676841      0.044072   \n",
       "5        0.032541              0.650922      0.649872      0.041827   \n",
       "\n",
       "   avg_packets_per_flow  num_of_single_packet_flow  X_squared_score  \n",
       "1              0.043034                   0.020121         0.128192  \n",
       "2              0.040762                   0.015610         0.147154  \n",
       "3              0.042595                   0.016722         0.137312  \n",
       "4              0.048241                   0.016081         0.129735  \n",
       "5              0.051015                   0.015269         0.127943  "
      ]
     },
     "execution_count": 16,
     "metadata": {},
     "output_type": "execute_result"
    }
   ],
   "source": [
    "df_all_scaled['X_squared_score'] = 0\n",
    "\n",
    "for i in range(len(df_all_scaled)):\n",
    "    result = X_squared(df_all_scaled.iloc[i,:6].values,mean_level)\n",
    "    df_all_scaled.iloc[i,6] = result\n",
    "\n",
    "df_all_scaled.head()"
   ]
  },
  {
   "cell_type": "code",
   "execution_count": 42,
   "metadata": {
    "collapsed": false
   },
   "outputs": [
    {
     "data": {
      "image/png": "[encoded data removed]",
      "text/plain": [
       "<matplotlib.figure.Figure at 0x2c053829fd0>"
      ]
     },
     "metadata": {},
     "output_type": "display_data"
    }
   ],
   "source": [
    "import matplotlib.pyplot as plt\n",
    "plt.scatter(df_all_scaled.index.values, df_all_scaled.X_squared_score)\n",
    "plt.show()"
   ]
  },
  {
   "cell_type": "code",
   "execution_count": 31,
   "metadata": {
    "collapsed": false,
    "scrolled": true
   },
   "outputs": [
    {
     "name": "stdout",
     "output_type": "stream",
     "text": [
      "mean of XSquared: 0.3515900037207699\n",
      "standard deviation of XSquared: 0.8963839519837954\n",
      "Threshold (mean + 2 * std) =  3.040741859672156\n",
      "total suspicious: 128\n",
      "[87, 89, 99, 285, 312, 313, 314, 316, 317, 387, 426, 705, 1539, 1559, 1563, 1584, 1617, 1623, 1809, 1821, 1822, 1825, 1826, 1827, 1845, 1851, 1866, 1877, 2773, 3860, 3861, 3862, 3863, 3864, 3865, 3866, 3867, 3868, 3869, 3870, 3871, 3872, 3873, 3874, 3875, 3876, 3877, 3878, 3879, 3880, 3881, 3882, 3883, 3884, 3885, 3886, 3887, 3888, 3889, 3890, 3891, 4218, 4219, 4220, 4221, 4223, 4248, 4256, 4260, 4264, 4268, 4294, 4298, 4306, 4494, 4496, 4503, 4504, 4508, 4515, 4519, 4520, 4525, 4526, 4746, 4752, 4757, 4758, 4762, 4763, 4767, 4768, 4782, 4793, 4797, 5881, 5885, 5890, 5945, 5977, 5990, 6204, 6280, 6287, 6290, 6292, 6306, 6320, 6325, 6329, 6331, 6542, 6562, 6566, 6570, 6574, 6575, 6578, 6579, 6582, 6586, 6590, 6593, 6594, 6598, 6601, 6605, 6610]\n",
      " No. 87 stream has chi-squared score of: 4.171653710751208\n",
      " No. 89 stream has chi-squared score of: 4.9389737849546345\n",
      " No. 99 stream has chi-squared score of: 3.5139359508499375\n",
      " No. 285 stream has chi-squared score of: 11.180624897520268\n",
      " No. 312 stream has chi-squared score of: 3.09118721179148\n",
      " No. 313 stream has chi-squared score of: 5.223656160632923\n",
      " No. 314 stream has chi-squared score of: 8.38088876536731\n",
      " No. 316 stream has chi-squared score of: 19.17830313265913\n",
      " No. 317 stream has chi-squared score of: 3.2606538110373364\n",
      " No. 387 stream has chi-squared score of: 6.180610929769415\n",
      " No. 426 stream has chi-squared score of: 5.134958960713655\n",
      " No. 705 stream has chi-squared score of: 26.23549415817622\n",
      " No. 1539 stream has chi-squared score of: 9.58034035415794\n",
      " No. 1559 stream has chi-squared score of: 3.3503306187870567\n",
      " No. 1563 stream has chi-squared score of: 4.217637199550058\n",
      " No. 1584 stream has chi-squared score of: 4.109275837284037\n",
      " No. 1617 stream has chi-squared score of: 3.399784677505317\n",
      " No. 1623 stream has chi-squared score of: 4.4092589995033595\n",
      " No. 1809 stream has chi-squared score of: 7.977380622681521\n",
      " No. 1821 stream has chi-squared score of: 6.489928754097055\n",
      " No. 1822 stream has chi-squared score of: 4.54826987221588\n",
      " No. 1825 stream has chi-squared score of: 6.61052042396565\n",
      " No. 1826 stream has chi-squared score of: 7.645892786947424\n",
      " No. 1827 stream has chi-squared score of: 6.304474093750539\n",
      " No. 1845 stream has chi-squared score of: 5.570418690885203\n",
      " No. 1851 stream has chi-squared score of: 4.0503213053544105\n",
      " No. 1866 stream has chi-squared score of: 3.7971019012524865\n",
      " No. 1877 stream has chi-squared score of: 3.5658738593711687\n",
      " No. 2773 stream has chi-squared score of: 3.1413469780271117\n",
      " No. 3860 stream has chi-squared score of: 3.451795536666396\n",
      " No. 3861 stream has chi-squared score of: 6.136241593202144\n",
      " No. 3862 stream has chi-squared score of: 6.39926505491669\n",
      " No. 3863 stream has chi-squared score of: 4.604448903724986\n",
      " No. 3864 stream has chi-squared score of: 4.962768806204981\n",
      " No. 3865 stream has chi-squared score of: 4.565685850911724\n",
      " No. 3866 stream has chi-squared score of: 6.359255466186007\n",
      " No. 3867 stream has chi-squared score of: 3.5086038742206425\n",
      " No. 3868 stream has chi-squared score of: 4.375227203118376\n",
      " No. 3869 stream has chi-squared score of: 6.989513149723533\n",
      " No. 3870 stream has chi-squared score of: 5.2219294592345165\n",
      " No. 3871 stream has chi-squared score of: 4.31115186025716\n",
      " No. 3872 stream has chi-squared score of: 6.055619012931584\n",
      " No. 3873 stream has chi-squared score of: 5.6985760200022835\n",
      " No. 3874 stream has chi-squared score of: 3.4680803988412\n",
      " No. 3875 stream has chi-squared score of: 5.241071462533888\n",
      " No. 3876 stream has chi-squared score of: 4.86273697859045\n",
      " No. 3877 stream has chi-squared score of: 4.361341266295888\n",
      " No. 3878 stream has chi-squared score of: 4.576702802549667\n",
      " No. 3879 stream has chi-squared score of: 4.729951645711669\n",
      " No. 3880 stream has chi-squared score of: 3.652985670700949\n",
      " No. 3881 stream has chi-squared score of: 7.2148170868005765\n",
      " No. 3882 stream has chi-squared score of: 9.644935151187894\n",
      " No. 3883 stream has chi-squared score of: 6.28207754162352\n",
      " No. 3884 stream has chi-squared score of: 7.081254999272898\n",
      " No. 3885 stream has chi-squared score of: 6.864917724385154\n",
      " No. 3886 stream has chi-squared score of: 4.353698416529677\n",
      " No. 3887 stream has chi-squared score of: 4.8167808372605405\n",
      " No. 3888 stream has chi-squared score of: 5.000847869275239\n",
      " No. 3889 stream has chi-squared score of: 4.555271598292473\n",
      " No. 3890 stream has chi-squared score of: 4.310672830324964\n",
      " No. 3891 stream has chi-squared score of: 3.120366184554692\n",
      " No. 4218 stream has chi-squared score of: 7.942972086195481\n",
      " No. 4219 stream has chi-squared score of: 4.599253782843092\n",
      " No. 4220 stream has chi-squared score of: 3.418162929876137\n",
      " No. 4221 stream has chi-squared score of: 4.212142299316548\n",
      " No. 4223 stream has chi-squared score of: 3.981138381726128\n",
      " No. 4248 stream has chi-squared score of: 4.529988489955253\n",
      " No. 4256 stream has chi-squared score of: 3.770714830684832\n",
      " No. 4260 stream has chi-squared score of: 5.1549042886302585\n",
      " No. 4264 stream has chi-squared score of: 4.393335924567291\n",
      " No. 4268 stream has chi-squared score of: 3.711590837983043\n",
      " No. 4294 stream has chi-squared score of: 7.1271044979504135\n",
      " No. 4298 stream has chi-squared score of: 4.917206873793237\n",
      " No. 4306 stream has chi-squared score of: 3.560289777665729\n",
      " No. 4494 stream has chi-squared score of: 6.222688858583716\n",
      " No. 4496 stream has chi-squared score of: 6.954601771237677\n",
      " No. 4503 stream has chi-squared score of: 4.163414152911317\n",
      " No. 4504 stream has chi-squared score of: 3.595265603882705\n",
      " No. 4508 stream has chi-squared score of: 4.5633899591377824\n",
      " No. 4515 stream has chi-squared score of: 4.243996466379958\n",
      " No. 4519 stream has chi-squared score of: 5.3575913339380685\n",
      " No. 4520 stream has chi-squared score of: 3.251669055207387\n",
      " No. 4525 stream has chi-squared score of: 8.916490494146453\n",
      " No. 4526 stream has chi-squared score of: 3.888648266223894\n",
      " No. 4746 stream has chi-squared score of: 4.062296751166926\n",
      " No. 4752 stream has chi-squared score of: 5.304045074020782\n",
      " No. 4757 stream has chi-squared score of: 3.7477572027200563\n",
      " No. 4758 stream has chi-squared score of: 5.93911294294651\n",
      " No. 4762 stream has chi-squared score of: 6.090285634650602\n",
      " No. 4763 stream has chi-squared score of: 6.0441639035839145\n",
      " No. 4767 stream has chi-squared score of: 8.872814351283521\n",
      " No. 4768 stream has chi-squared score of: 3.2281975408170878\n",
      " No. 4782 stream has chi-squared score of: 7.756498506182205\n",
      " No. 4793 stream has chi-squared score of: 4.91599064859291\n",
      " No. 4797 stream has chi-squared score of: 3.3396797323483205\n",
      " No. 5881 stream has chi-squared score of: 4.726271280295141\n",
      " No. 5885 stream has chi-squared score of: 3.542920241164507\n",
      " No. 5890 stream has chi-squared score of: 4.9868661350938135\n",
      " No. 5945 stream has chi-squared score of: 3.866770337975845\n",
      " No. 5977 stream has chi-squared score of: 4.150351244892851\n",
      " No. 5990 stream has chi-squared score of: 3.214162183425751\n",
      " No. 6204 stream has chi-squared score of: 4.865543894502899\n",
      " No. 6280 stream has chi-squared score of: 5.098983739568405\n",
      " No. 6287 stream has chi-squared score of: 4.527288173944341\n",
      " No. 6290 stream has chi-squared score of: 3.7255369980927324\n",
      " No. 6292 stream has chi-squared score of: 4.642405332546493\n",
      " No. 6306 stream has chi-squared score of: 7.20484252603241\n",
      " No. 6320 stream has chi-squared score of: 3.957786680111738\n",
      " No. 6325 stream has chi-squared score of: 4.309851706998783\n",
      " No. 6329 stream has chi-squared score of: 6.588966359486835\n",
      " No. 6331 stream has chi-squared score of: 3.9092476413462576\n",
      " No. 6542 stream has chi-squared score of: 5.394267048237512\n",
      " No. 6562 stream has chi-squared score of: 4.601729458687698\n",
      " No. 6566 stream has chi-squared score of: 7.466400608090834\n",
      " No. 6570 stream has chi-squared score of: 11.864808443983458\n",
      " No. 6574 stream has chi-squared score of: 5.707459065963204\n",
      " No. 6575 stream has chi-squared score of: 4.179591454849616\n",
      " No. 6578 stream has chi-squared score of: 6.243522983533015\n",
      " No. 6579 stream has chi-squared score of: 4.777863515821391\n",
      " No. 6582 stream has chi-squared score of: 10.573500200217305\n",
      " No. 6586 stream has chi-squared score of: 5.949905778225317\n",
      " No. 6590 stream has chi-squared score of: 5.293124186838647\n",
      " No. 6593 stream has chi-squared score of: 3.4096586799638713\n",
      " No. 6594 stream has chi-squared score of: 3.7366562698487202\n",
      " No. 6598 stream has chi-squared score of: 3.1007400453245495\n",
      " No. 6601 stream has chi-squared score of: 5.12811036148323\n",
      " No. 6605 stream has chi-squared score of: 7.870413550197135\n",
      " No. 6610 stream has chi-squared score of: 4.674328210826548\n"
     ]
    }
   ],
   "source": [
    "mu = np.mean(df_all_scaled.X_squared_score)\n",
    "sigma = np.std(df_all_scaled.X_squared_score)\n",
    "\n",
    "print(\"mean of XSquared:\", mu)\n",
    "print(\"standard deviation of XSquared:\", sigma)\n",
    "print(\"Threshold (mean + 2 * std) = \",mu + 3 * sigma)\n",
    "\n",
    "suspicious_labels = []\n",
    "count = 0\n",
    "for i in range(len(df_all_scaled)):\n",
    "    if (df_all_scaled.iloc[i,6] > mu + 3 * sigma):\n",
    "        suspicious_labels.append(df_all.index.values[i])\n",
    "        count += 1\n",
    "print('total suspicious:',count)\n",
    "print(suspicious_labels)\n",
    "\n",
    "for i in suspicious_labels:\n",
    "    print(\" No. {0} stream has chi-squared score of: {1}\".format(i, df_all_scaled.loc[i,'X_squared_score']))"
   ]
  },
  {
   "cell_type": "code",
   "execution_count": 32,
   "metadata": {
    "collapsed": false
   },
   "outputs": [],
   "source": [
    "def get_detail_by_timewindow(index):\n",
    "    list1 = []\n",
    "    suspicious_file = load_dataset(index)\n",
    "    \n",
    "    f1 = suspicious_file.groupby(['SC']).sum()['PC']\n",
    "    f2 = suspicious_file.groupby(['SC']).sum()['BC']/ f1\n",
    "    f3 = suspicious_file.groupby(['SC']).mean()['D']\n",
    "    f4 = suspicious_file.groupby(['SC']).count()['T']\n",
    "    f5 = f1/f4\n",
    "    f6 = suspicious_file.groupby(['SC']).agg({\"PC\" : {'F6':lambda x: (x == 1).sum()}})['PC']['F6']\n",
    "    \n",
    "    list1 = [f1, f2, f3, f4, f5, f6]\n",
    "    \n",
    "    return list1"
   ]
  },
  {
   "cell_type": "code",
   "execution_count": 33,
   "metadata": {
    "collapsed": true
   },
   "outputs": [],
   "source": [
    "def get_top_SC_from_index(index):\n",
    "    lst = get_detail_by_timewindow(index)\n",
    "    output = []\n",
    "    for f in lst:\n",
    "        d = f.to_dict()\n",
    "        top_10 = sorted(d, key=d.get, reverse=True)[:5]\n",
    "        output.extend(top_10)\n",
    "    return output"
   ]
  },
  {
   "cell_type": "code",
   "execution_count": 34,
   "metadata": {
    "collapsed": false
   },
   "outputs": [
    {
     "name": "stdout",
     "output_type": "stream",
     "text": [
      "Counter({'C1707': 210, 'C1685': 204, 'C20101': 193, 'C5698': 167, 'C528': 126, 'C467': 125, 'C586': 124, 'C5720': 123, 'C5721': 106, 'C21745': 96, 'C2321': 95, 'C1295': 82, 'C612': 79, 'C2893': 65, 'C5736': 63, 'C2519': 61, 'C5787': 50, 'C529': 50, 'C5808': 49, 'C5802': 46, 'C7244': 46, 'C12277': 43, 'C706': 40, 'C1065': 35, 'C754': 35, 'C2320': 34, 'C9729': 32, 'C2174': 28, 'C231': 27, 'C1107': 24, 'C5696': 24, 'C5782': 23, 'C6181': 22, 'C5900': 20, 'C2949': 19, 'C2651': 19, 'C6123': 17, 'C6785': 17, 'C6144': 16, 'C6509': 16, 'C6055': 16, 'C9336': 16, 'C1319': 12, 'C21874': 12, 'C3637': 12, 'C9956': 11, 'C9610': 11, 'C22667': 11, 'C571': 11, 'C18779': 11, 'C1840': 11, 'C8831': 10, 'C16712': 10, 'C1082': 10, 'C5517': 10, 'C13544': 10, 'C5030': 9, 'C15124': 9, 'C9880': 9, 'C2368': 9, 'C5948': 8, 'C24270': 8, 'C3156': 8, 'C13358': 8, 'C5763': 8, 'C5362': 8, 'C1155': 8, 'C4323': 8, 'C195': 8, 'C1347': 8, 'C14879': 8, 'C2600': 8, 'C2091': 8, 'C15665': 7, 'C12375': 7, 'C2693': 7, 'C6306': 7, 'C1883': 7, 'C7693': 7, 'C1962': 7, 'C15441': 7, 'C2616': 7, 'C22112': 6, 'C19838': 6, 'C1007': 6, 'C23778': 6, 'C1495': 6, 'C17412': 6, 'C190': 6, 'C349': 6, 'C3256': 6, 'C1366': 5, 'C23679': 5, 'C17063': 5, 'C15914': 5, 'C15905': 5, 'C217': 5, 'C1797': 5, 'C4554': 5, 'C13497': 5, 'C791': 5, 'C3736': 5, 'C10694': 5, 'C8044': 5, 'C6014': 4, 'C924': 4, 'C3841': 4, 'C2436': 4, 'C2751': 4, 'C16182': 4, 'C1262': 4, 'C8371': 4, 'C1035': 4, 'C5159': 4, 'C936': 4, 'C979': 4, 'C5788': 4, 'C2095': 4, 'C5540': 4, 'C19821': 4, 'C395': 4, 'C1834': 4, 'C5638': 4, 'C22651': 4, 'C4858': 4, 'C3174': 4, 'C12347': 4, 'C3083': 4, 'C7760': 4, 'C2186': 4, 'C10921': 3, 'C22442': 3, 'C368': 3, 'C5911': 3, 'C533': 3, 'C1172': 3, 'C2983': 3, 'C3526': 3, 'C12920': 3, 'C18844': 3, 'C15733': 3, 'C2851': 3, 'C7392': 3, 'C10328': 3, 'C3377': 3, 'C25022': 3, 'C3139': 3, 'C1532': 3, 'C5741': 3, 'C4174': 3, 'C14182': 3, 'C2679': 3, 'C4765': 3, 'C13602': 3, 'C591': 3, 'C976': 3, 'C4267': 3, 'C5128': 3, 'C15341': 3, 'C22756': 3, 'C8151': 3, 'C22758': 3, 'C159': 3, 'C14296': 3, 'C1261': 3, 'C1370': 3, 'C17268': 2, 'C20777': 2, 'C4592': 2, 'C15055': 2, 'C6125': 2, 'C19715': 2, 'C14341': 2, 'C2902': 2, 'C11283': 2, 'C10095': 2, 'C14958': 2, 'C13343': 2, 'C7997': 2, 'C17755': 2, 'C19199': 2, 'C16478': 2, 'C3762': 2, 'C19288': 2, 'C5826': 2, 'C21247': 2, 'C19772': 2, 'C4222': 2, 'C15244': 2, 'C19647': 2, 'C4973': 2, 'C2631': 2, 'C26737': 2, 'C9248': 2, 'C8645': 2, 'C6492': 2, 'C1484': 2, 'C2710': 2, 'C19127': 2, 'C21196': 2, 'C4448': 2, 'C9904': 2, 'C19398': 2, 'C12202': 2, 'C13766': 2, 'C50': 2, 'C313': 2, 'C19643': 2, 'C8542': 2, 'C5455': 2, 'C8435': 2, 'C15802': 2, 'C12722': 2, 'C1404': 2, 'C18041': 2, 'C9502': 2, 'C19057': 2, 'C10208': 2, 'C7359': 2, 'C1712': 2, 'C20807': 2, 'C683': 2, 'C3495': 2, 'C11665': 2, 'C20903': 2, 'C1973': 2, 'C8266': 2, 'C5640': 2, 'C3682': 2, 'C3634': 2, 'C19636': 2, 'C17879': 2, 'C19083': 2, 'C19560': 2, 'C15744': 2, 'C20004': 2, 'C18254': 2, 'C21085': 2, 'C20644': 2, 'C20858': 2, 'C20179': 2, 'C10730': 2, 'C2633': 2, 'C19183': 2, 'C19021': 2, 'C3427': 2, 'C12149': 2, 'C18228': 2, 'C5145': 2, 'C8406': 2, 'C3928': 2, 'C23967': 2, 'C8670': 2, 'C16650': 2, 'C19945': 2, 'C9884': 2, 'C7339': 2, 'C2588': 2, 'C6255': 2, 'C13696': 2, 'C1092': 2, 'C10089': 2, 'C309': 2, 'C1947': 2, 'C7691': 2, 'C3031': 2, 'C14988': 2, 'C20813': 2, 'C20795': 2, 'C11694': 2, 'C14660': 2, 'C16896': 2, 'C1027': 2, 'C17693': 2, 'C3110': 2, 'C23942': 1, 'C21632': 1, 'C13211': 1, 'C137': 1, 'C9735': 1, 'C14804': 1, 'C20738': 1, 'C3070': 1, 'C20418': 1, 'C13736': 1, 'C19118': 1, 'C20789': 1, 'C2670': 1, 'C17924': 1, 'C14097': 1, 'C3801': 1, 'C1940': 1, 'C15584': 1, 'C15475': 1, 'C19139': 1, 'C6819': 1, 'C914': 1, 'C847': 1, 'C1003': 1, 'C12391': 1, 'C18266': 1, 'C19597': 1, 'C16744': 1, 'C22852': 1, 'C21040': 1, 'C9833': 1, 'C16652': 1, 'C8501': 1, 'C8672': 1, 'C7168': 1, 'C18706': 1, 'C18982': 1, 'C3058': 1, 'C25192': 1, 'C3206': 1, 'C11047': 1, 'C10291': 1, 'C15549': 1, 'C15163': 1, 'C14886': 1, 'C10705': 1, 'C753': 1, 'C20791': 1, 'C23239': 1, 'C5778': 1, 'C9309': 1, 'C14036': 1, 'C10718': 1, 'C1435': 1, 'C10923': 1, 'C3909': 1, 'C12943': 1, 'C9768': 1, 'C2696': 1, 'C17407': 1, 'C6365': 1, 'C19893': 1, 'C21302': 1, 'C2242': 1, 'C18491': 1, 'C12820': 1, 'C11481': 1, 'C7466': 1, 'C1477': 1, 'C1246': 1, 'C6787': 1, 'C19144': 1, 'C13483': 1, 'C23542': 1, 'C9128': 1, 'C18163': 1, 'C17872': 1, 'C993': 1, 'C11227': 1, 'C5862': 1, 'C7882': 1, 'C18250': 1, 'C13074': 1, 'C20091': 1, 'C14827': 1, 'C2150': 1, 'C291': 1, 'C3833': 1, 'C13123': 1, 'C20975': 1, 'C2802': 1, 'C20265': 1, 'C14917': 1, 'C11643': 1, 'C8889': 1, 'C1472': 1, 'C1015': 1, 'C1207': 1, 'C793': 1, 'C17815': 1, 'C18833': 1, 'C21758': 1, 'C20917': 1, 'C10876': 1, 'C8295': 1, 'C1228': 1, 'C3810': 1, 'C22944': 1, 'C14551': 1, 'C3535': 1, 'C5450': 1, 'C21852': 1, 'C17303': 1, 'C2430': 1, 'C1214': 1, 'C9849': 1, 'C10043': 1, 'C16177': 1, 'C11313': 1, 'C9853': 1, 'C8980': 1, 'C1611': 1, 'C22609': 1, 'C19033': 1, 'C9931': 1, 'C14040': 1, 'C575': 1, 'C5200': 1, 'C2861': 1, 'C23781': 1, 'C13937': 1, 'C2193': 1, 'C7284': 1, 'C16079': 1, 'C241': 1, 'C10605': 1, 'C5933': 1, 'C3848': 1, 'C26202': 1, 'C6485': 1, 'C14233': 1, 'C19885': 1, 'C19042': 1, 'C257': 1, 'C13214': 1, 'C18789': 1, 'C1681': 1, 'C10338': 1, 'C191': 1, 'C1929': 1, 'C446': 1, 'C22696': 1, 'C11031': 1, 'C14409': 1, 'C15753': 1, 'C12588': 1, 'C10770': 1, 'C17974': 1, 'C8175': 1, 'C699': 1, 'C7091': 1, 'C13675': 1, 'C7174': 1, 'C5458': 1, 'C11498': 1, 'C5637': 1, 'C8211': 1, 'C22969': 1, 'C11213': 1, 'C20779': 1, 'C18810': 1, 'C4217': 1, 'C18886': 1, 'C13323': 1, 'C7542': 1, 'C3112': 1, 'C13041': 1, 'C13003': 1, 'C14638': 1, 'C10552': 1, 'C2667': 1, 'C17731': 1, 'C13845': 1, 'C20274': 1, 'C296': 1, 'C13459': 1, 'C13331': 1, 'C14413': 1, 'C2848': 1, 'C7071': 1, 'C15170': 1, 'C2372': 1, 'C19306': 1, 'C12620': 1, 'C8992': 1, 'C2783': 1, 'C789': 1, 'C6627': 1, 'C13698': 1, 'C4064': 1, 'C3507': 1, 'C20379': 1, 'C1991': 1, 'C10970': 1, 'C12812': 1, 'C8990': 1, 'C2029': 1, 'C12478': 1, 'C3493': 1, 'C20416': 1, 'C10939': 1, 'C10992': 1, 'C3460': 1, 'C16589': 1, 'C106': 1, 'C2935': 1, 'C3202': 1, 'C3461': 1, 'C5730': 1, 'C13642': 1, 'C10020': 1, 'C945': 1, 'C20569': 1, 'C904': 1, 'C11621': 1, 'C24300': 1, 'C3093': 1, 'C370': 1, 'C24035': 1, 'C10314': 1, 'C9152': 1, 'C18498': 1, 'C13942': 1, 'C5588': 1, 'C3268': 1, 'C4133': 1, 'C3443': 1, 'C15701': 1, 'C13418': 1, 'C22897': 1, 'C8924': 1, 'C10620': 1, 'C6915': 1, 'C4988': 1, 'C1804': 1, 'C17849': 1, 'C215': 1, 'C15392': 1, 'C19302': 1, 'C3211': 1, 'C25374': 1, 'C5618': 1, 'C459': 1})\n"
     ]
    }
   ],
   "source": [
    "from collections import Counter\n",
    "\n",
    "top_SC = []\n",
    "\n",
    "for index in suspicious_labels:\n",
    "    top_SC.extend(get_top_SC_from_index(index))\n",
    "\n",
    "top_SC_counts = Counter(top_SC)\n",
    "print(top_SC_counts)"
   ]
  },
  {
   "cell_type": "code",
   "execution_count": 41,
   "metadata": {
    "collapsed": false
   },
   "outputs": [
    {
     "data": {
      "text/plain": [
       "[('C1707', 210),\n",
       " ('C1685', 204),\n",
       " ('C20101', 193),\n",
       " ('C5698', 167),\n",
       " ('C528', 126),\n",
       " ('C467', 125),\n",
       " ('C586', 124),\n",
       " ('C5720', 123),\n",
       " ('C5721', 106),\n",
       " ('C21745', 96),\n",
       " ('C2321', 95),\n",
       " ('C1295', 82),\n",
       " ('C612', 79),\n",
       " ('C2893', 65),\n",
       " ('C5736', 63),\n",
       " ('C2519', 61),\n",
       " ('C5787', 50),\n",
       " ('C529', 50),\n",
       " ('C5808', 49),\n",
       " ('C5802', 46)]"
      ]
     },
     "execution_count": 41,
     "metadata": {},
     "output_type": "execute_result"
    }
   ],
   "source": [
    "top_SC_counts.most_common(20)"
   ]
  },
  {
   "cell_type": "code",
   "execution_count": null,
   "metadata": {
    "collapsed": true
   },
   "outputs": [],
   "source": []
  }
 ],
 "metadata": {
  "anaconda-cloud": {},
  "kernelspec": {
   "display_name": "Python [default]",
   "language": "python",
   "name": "python3"
  },
  "language_info": {
   "codemirror_mode": {
    "name": "ipython",
    "version": 3
   },
   "file_extension": ".py",
   "mimetype": "text/x-python",
   "name": "python",
   "nbconvert_exporter": "python",
   "pygments_lexer": "ipython3",
   "version": "3.5.2"
  }
 },
 "nbformat": 4,
 "nbformat_minor": 0
}
